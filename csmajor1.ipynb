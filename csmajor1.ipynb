{
 "cells": [
  {
   "cell_type": "markdown",
   "id": "172cb119",
   "metadata": {},
   "source": [
    "# Q1"
   ]
  },
  {
   "cell_type": "code",
   "execution_count": 1,
   "id": "0481a4df",
   "metadata": {},
   "outputs": [
    {
     "name": "stdout",
     "output_type": "stream",
     "text": [
      "[0, 1]\n",
      "[1, 2]\n",
      "[0, 1]\n"
     ]
    }
   ],
   "source": [
    "def lstsum(numbers, target):\n",
    "        set = {}\n",
    "        for k,t in enumerate(numbers):\n",
    "            remaining = target - t\n",
    "            if remaining in set:\n",
    "                return [set[remaining], k]\n",
    "            set[t] = k\n",
    "        return []\n",
    "    \n",
    "print(lstsum([2,7,11,15], 9))\n",
    "print(lstsum([3,2,4],6))\n",
    "print(lstsum([3,3],6))"
   ]
  },
  {
   "cell_type": "markdown",
   "id": "292f9f1d",
   "metadata": {},
   "source": [
    "# Q2"
   ]
  },
  {
   "cell_type": "code",
   "execution_count": 2,
   "id": "45f02769",
   "metadata": {},
   "outputs": [
    {
     "name": "stdout",
     "output_type": "stream",
     "text": [
      "5\n",
      "Harry\n",
      "37.21\n",
      "Berry\n",
      "37.21\n",
      "Tina\n",
      "37.2\n",
      "Akriti\n",
      "41\n",
      "Harsh\n",
      "39\n",
      "Output:\n",
      "Berry\n",
      "Harry\n"
     ]
    }
   ],
   "source": [
    "N = int(input())\n",
    "\n",
    "students = []\n",
    "for i in range(2*N):\n",
    "    students.append(input().split())\n",
    "grades = {}\n",
    "for j in range(0, len(students), 2):\n",
    "    grades[students[j][0]] = float(students[j + 1][0])\n",
    "result = []\n",
    "num_to_match = sorted(set(grades.values()))[1]\n",
    "for pupil in grades.keys():\n",
    "    if grades[pupil] == num_to_match:\n",
    "        result.append(pupil)\n",
    "print(\"Output:\")\n",
    "for k in sorted(result):\n",
    "    print(k)"
   ]
  },
  {
   "cell_type": "code",
   "execution_count": null,
   "id": "487ff836",
   "metadata": {},
   "outputs": [],
   "source": []
  }
 ],
 "metadata": {
  "kernelspec": {
   "display_name": "Python 3 (ipykernel)",
   "language": "python",
   "name": "python3"
  },
  "language_info": {
   "codemirror_mode": {
    "name": "ipython",
    "version": 3
   },
   "file_extension": ".py",
   "mimetype": "text/x-python",
   "name": "python",
   "nbconvert_exporter": "python",
   "pygments_lexer": "ipython3",
   "version": "3.7.11"
  }
 },
 "nbformat": 4,
 "nbformat_minor": 5
}
